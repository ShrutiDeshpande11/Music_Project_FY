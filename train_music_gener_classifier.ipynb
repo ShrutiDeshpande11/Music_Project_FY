{
 "cells": [
  {
   "cell_type": "markdown",
   "id": "b9fa26ae-266b-4fdc-88ed-85207f156156",
   "metadata": {},
   "source": [
    "### Visiualization of melespectogram"
   ]
  },
  {
   "cell_type": "code",
   "execution_count": null,
   "id": "89d9b475-5c4d-4ec6-99d2-0d44fc53d1fd",
   "metadata": {},
   "outputs": [],
   "source": [
    "import os \n",
    "import librosa\n",
    "import matplotlib.pyplot as plt\n",
    "import tensorflow as tf\n",
    "import numpy as np\n",
    "from tensorflow.keras.layers import Conv2D, MaxPool2D, Flatten, Dense, Dropout\n",
    "from tensorflow.keras.optimizers import Adam"
   ]
  },
  {
   "cell_type": "code",
   "execution_count": null,
   "id": "6acac292-542c-45dc-a793-78d8354b957f",
   "metadata": {},
   "outputs": [],
   "source": [
    "random_file_name =\"./blues.00000.wav\""
   ]
  },
  {
   "cell_type": "code",
   "execution_count": null,
   "id": "973566d8-d4ac-4070-8546-e5fe452b5bc1",
   "metadata": {},
   "outputs": [],
   "source": [
    "y,sr = librosa.load(random_file_name,sr=44100)\n",
    "plt.figure(figsize=(14,5))\n",
    "librosa.display.waveshow(y,sr=sr)"
   ]
  },
  {
   "cell_type": "code",
   "execution_count": null,
   "id": "39996eb1-11e9-4c3b-ab03-1fecb38efca7",
   "metadata": {},
   "outputs": [],
   "source": [
    "from IPython.display import Audio\n",
    "Audio (data=y,rate=sr)"
   ]
  },
  {
   "cell_type": "markdown",
   "id": "37620d00-14f3-40ac-810d-994d86808d38",
   "metadata": {},
   "source": [
    "### Doing visiualization of chunks of audio "
   ]
  },
  {
   "cell_type": "code",
   "execution_count": null,
   "id": "c29d09f9-2da2-43d8-8a73-771ce704d2de",
   "metadata": {},
   "outputs": [],
   "source": [
    "audio_path = \"./blues.00000.wav\"\n",
    "y, sr = librosa.load(random_file_name, sr=None)  # sr=None to keep original sampling rate\n",
    "\n",
    "# define the duration of each chunk and overlap\n",
    "chunk_duration = 4\n",
    "overlap_duration = 2\n",
    "\n",
    "# Convert duration to sample\n",
    "chunk_samples = chunk_duration * sr\n",
    "overlap_samples = overlap_duration * sr\n",
    "\n",
    "# Calculate the number of chunks\n",
    "num_chunks = int(np.ceil((len(y) - chunk_samples) / (chunk_samples - overlap_samples))) + 1\n",
    "\n",
    "# iterate over each chunk\n",
    "for i in range(num_chunks):\n",
    "    # Calculate start and end indices of the chunk\n",
    "    start = i * (chunk_samples - overlap_samples)\n",
    "    end = start+chunk_samples\n",
    "    #extract chunk audio\n",
    "    chunk = y[start:end]\n",
    "    plt.figure(figsize=(4,2))\n",
    "    librosa.display.waveshow(chunk,sr=sr)\n",
    "    plt.show() "
   ]
  },
  {
   "cell_type": "markdown",
   "id": "c088fae0-7fc0-4db6-b398-7da7ad571eef",
   "metadata": {},
   "source": [
    "### Melespectogram visiualization"
   ]
  },
  {
   "cell_type": "code",
   "execution_count": null,
   "id": "8c5114b9-4178-49c1-ae5d-b2c3f5866ed2",
   "metadata": {},
   "outputs": [],
   "source": [
    "# Plotting Melspectrogram of Entire Audio\n",
    "def plot_melspectrogram(y, sr):\n",
    "    # Compute spectrogram\n",
    "    spectrogram = librosa.feature.melspectrogram(y=y, sr=sr)\n",
    "    \n",
    "    # Convert to decibels (log scale)\n",
    "    spectrogram_db = librosa.power_to_db(spectrogram, ref=np.max)\n",
    "    \n",
    "    # Visualize the spectrogram\n",
    "    plt.figure(figsize=(10, 4))\n",
    "    librosa.display.specshow(spectrogram_db, sr=sr, x_axis='time', y_axis='mel')\n",
    "    plt.colorbar(format='%+2.0f dB') # here if we comment this line then we will not get right side which is in db\n",
    "    plt.title(\"Spectrogram\")\n",
    "    plt.tight_layout()\n",
    "    plt.show()\n"
   ]
  },
  {
   "cell_type": "code",
   "execution_count": null,
   "id": "d7ec19a9-1be1-4efa-9743-f4ab5e499213",
   "metadata": {},
   "outputs": [],
   "source": [
    "random_file_name =\"./blues.00000.wav\"\n",
    "y,sr = librosa.load(random_file_name,sr=44100)"
   ]
  },
  {
   "cell_type": "code",
   "execution_count": null,
   "id": "30bffbf5-17be-48b5-af37-53613b895b72",
   "metadata": {},
   "outputs": [],
   "source": [
    "plot_melspectrogram(y, sr)"
   ]
  },
  {
   "cell_type": "code",
   "execution_count": null,
   "id": "a0bec4bc-c85d-4fb8-a56c-bccb85eff14a",
   "metadata": {},
   "outputs": [],
   "source": [
    "def plot_melspectrogram_chunks(y, sr):\n",
    "    # Define duration of each chunk and overlap (in seconds)\n",
    "    chunk_duration = 4\n",
    "    overlap_duration = 2\n",
    "\n",
    "    # Convert durations to samples\n",
    "    chunk_samples = chunk_duration * sr\n",
    "    overlap_samples = overlap_duration * sr\n",
    "\n",
    "    # Calculate number of chunks\n",
    "    num_chunks = int(np.ceil((len(y) - chunk_samples) / (chunk_samples - overlap_samples))) + 1\n",
    "\n",
    "    # Iterate over each chunk\n",
    "    for i in range(num_chunks):\n",
    "        # Calculate start and end indices\n",
    "        start = i * (chunk_samples - overlap_samples)\n",
    "        end = start + chunk_samples\n",
    "        \n",
    "        # Extract chunk\n",
    "        chunk = y[start:end]\n",
    "\n",
    "        #  melspectrogram part\n",
    "        spectrogram = librosa.feature.melspectrogram(y=chunk, sr=sr)\n",
    "        print(spectrogram.shape)\n",
    "        spectrogram_db = librosa.power_to_db(spectrogram, ref=np.max)\n",
    "\n",
    "        # Plot\n",
    "        plt.figure(figsize=(10, 4))\n",
    "        librosa.display.specshow(spectrogram_db, sr=sr, x_axis='time', y_axis='mel')\n",
    "        plt.colorbar(format='%+2.0f dB')\n",
    "        plt.title(\"Spectrogram\")\n",
    "        plt.tight_layout()\n",
    "        plt.show()\n"
   ]
  },
  {
   "cell_type": "code",
   "execution_count": null,
   "id": "41c09ff9-b8e5-402a-84d8-3de172dd7723",
   "metadata": {},
   "outputs": [],
   "source": [
    "random_file_name = \"./blues.00000.wav\"\n",
    "y, sr = librosa.load(random_file_name, sr=44100)"
   ]
  },
  {
   "cell_type": "code",
   "execution_count": null,
   "id": "cb0f57e6-d69f-43c5-9149-321eb44edc8b",
   "metadata": {},
   "outputs": [],
   "source": [
    "plot_melspectrogram_chunks(y, sr)"
   ]
  },
  {
   "cell_type": "markdown",
   "id": "5d099bb4-e621-4f46-aa20-69eb62ca0326",
   "metadata": {},
   "source": [
    "## Data Preprocessing - Final"
   ]
  },
  {
   "cell_type": "code",
   "execution_count": null,
   "id": "f5ecee17-38c3-458d-a620-2aeacb6a274c",
   "metadata": {},
   "outputs": [],
   "source": [
    "# Define your folder structure\n",
    "data_dir = './genres_original'\n",
    "classes = ['blues','classical','country','disco','hiphop','jazz','metal','pop','reggae','rock']"
   ]
  },
  {
   "cell_type": "code",
   "execution_count": null,
   "id": "6e4f79d9-4f63-4a91-b441-b931dd1c655b",
   "metadata": {},
   "outputs": [],
   "source": [
    "from tensorflow.image import resize\n",
    "\n",
    "# Load and preprocess audio data\n",
    "def load_and_preprocess_data(data_dir, classes, target_shape=(210,210)):\n",
    "    data=[]\n",
    "    labels=[]\n",
    "\n",
    "    for i_class, class_name in enumerate(classes):\n",
    "        class_dir = os.path.join(data_dir, class_name)\n",
    "        print(\"Processing...\", class_name)\n",
    "        for filename in os.listdir(class_dir):\n",
    "            if filename.endswith('.wav'):\n",
    "                file_path = os.path.join(class_dir, filename)\n",
    "                audio_data, sample_rate = librosa.load(file_path, sr=None)\n",
    "\n",
    "                # Performing Preprocessing\n",
    "                # Define the duration of each chunk and overlap\n",
    "                chunk_duration = 4\n",
    "                overlap_duration = 2\n",
    "\n",
    "                # Convert duration to sample\n",
    "                chunk_samples = chunk_duration * sample_rate\n",
    "                overlap_samples = overlap_duration * sample_rate\n",
    "                \n",
    "                # Calculate the number of chunks\n",
    "                num_chunks = int(np.ceil((len(audio_data)-chunk_samples)/(chunk_samples-overlap_samples))) + 1\n",
    "\n",
    "                # Iterate over each chunk\n",
    "                for i in range(num_chunks):\n",
    "                    # Calculate start and end indices of the chunk\n",
    "                    start = i * (chunk_samples - overlap_samples)\n",
    "                    end = start + chunk_samples\n",
    "\n",
    "                    # Extract the chunk audio\n",
    "                    chunk = audio_data[start:end]\n",
    "\n",
    "                    # Melspectrogram part\n",
    "                    mel_spectrogram = librosa.feature.melspectrogram(y=chunk, sr=sample_rate)\n",
    "\n",
    "                    # Resize matrix based on provided target shape\n",
    "                    mel_spectrogram = resize(np.expand_dims(mel_spectrogram, axis=-1), target_shape)\n",
    "\n",
    "                    # Append data to list\n",
    "                    data.append(mel_spectrogram)\n",
    "                    labels.append(i_class)\n",
    "    # Return\n",
    "    return np.array(data), np.array(labels)"
   ]
  },
  {
   "cell_type": "code",
   "execution_count": null,
   "id": "5f05b1ee-9271-435f-9c8d-49c9d606a00f",
   "metadata": {},
   "outputs": [],
   "source": [
    "data, labels = load_and_preprocess_data(data_dir, classes)"
   ]
  },
  {
   "cell_type": "code",
   "execution_count": null,
   "id": "010f0563-3969-4cbb-8636-ccdee7e5a3f6",
   "metadata": {},
   "outputs": [],
   "source": [
    "data.shape"
   ]
  },
  {
   "cell_type": "code",
   "execution_count": null,
   "id": "eec58c90-d264-44ea-9349-a488ba534ead",
   "metadata": {},
   "outputs": [],
   "source": [
    "labels.shape"
   ]
  },
  {
   "cell_type": "code",
   "execution_count": null,
   "id": "0c604679-6478-4819-aaa2-e491cf433566",
   "metadata": {},
   "outputs": [],
   "source": [
    "from tensorflow.keras.utils import to_categorical\n",
    "labels = to_categorical(labels, num_classes=len(classes))  # Converting labels to one-hot encoding\n",
    "labels"
   ]
  },
  {
   "cell_type": "code",
   "execution_count": null,
   "id": "ce08048a-8a78-494e-9f55-572e6dc3d419",
   "metadata": {},
   "outputs": [],
   "source": [
    "labels.shape"
   ]
  },
  {
   "cell_type": "code",
   "execution_count": null,
   "id": "af4ede06-a501-4935-abde-a04fca391954",
   "metadata": {},
   "outputs": [],
   "source": [
    "!pip install scikit-learn"
   ]
  },
  {
   "cell_type": "markdown",
   "id": "40f5dc55-edee-47ca-a2c0-cf3b1dd05d07",
   "metadata": {},
   "source": [
    "## Splitting of dataset into training and test set"
   ]
  },
  {
   "cell_type": "code",
   "execution_count": null,
   "id": "acf44193-750a-41e7-b9c0-6a64720e7215",
   "metadata": {},
   "outputs": [],
   "source": [
    "from sklearn.model_selection import train_test_split\n",
    "X_train, X_test, Y_train, Y_test = train_test_split(data, labels, test_size=0.2, random_state=42)"
   ]
  },
  {
   "cell_type": "markdown",
   "id": "0227f3ec-45bd-4c23-83de-870c723d8cac",
   "metadata": {},
   "source": [
    "## Building Model"
   ]
  },
  {
   "cell_type": "code",
   "execution_count": null,
   "id": "5f1394a5-b89a-4c86-93bd-799c7dd3ffc6",
   "metadata": {},
   "outputs": [],
   "source": [
    "model = tf.keras.models.Sequential()"
   ]
  },
  {
   "cell_type": "code",
   "execution_count": null,
   "id": "476f7598-1245-4bfe-9057-9ea2c1ffe3c5",
   "metadata": {},
   "outputs": [],
   "source": [
    "X_train[0].shape"
   ]
  },
  {
   "cell_type": "code",
   "execution_count": null,
   "id": "2bc5d0a7-ea5b-4afd-9aa0-52cba61e5c40",
   "metadata": {},
   "outputs": [],
   "source": [
    "model.add(Conv2D(filters=32, kernel_size=3, padding='same', activation='relu', input_shape=X_train[0].shape))\n",
    "model.add(Conv2D(filters=32, kernel_size=3, activation='relu'))\n",
    "model.add(MaxPool2D(pool_size=2, strides=2))"
   ]
  },
  {
   "cell_type": "code",
   "execution_count": null,
   "id": "61433e33-d5d2-41a9-9a01-7544edb77411",
   "metadata": {},
   "outputs": [],
   "source": [
    "model.add(Conv2D(filters=64, kernel_size=3, padding='same', activation='relu'))\n",
    "model.add(Conv2D(filters=64, kernel_size=3, activation='relu'))\n",
    "model.add(MaxPool2D(pool_size=2, strides=2))"
   ]
  },
  {
   "cell_type": "code",
   "execution_count": null,
   "id": "2358e9d9-9dfa-4802-abf0-f3a363f93e9a",
   "metadata": {},
   "outputs": [],
   "source": [
    "model.add(Conv2D(filters=128, kernel_size=3, padding='same', activation='relu'))\n",
    "model.add(Conv2D(filters=128, kernel_size=3, activation='relu'))\n",
    "model.add(MaxPool2D(pool_size=2, strides=2))"
   ]
  },
  {
   "cell_type": "code",
   "execution_count": null,
   "id": "9379992a-af5d-4b1b-8130-d5d98a65a30a",
   "metadata": {},
   "outputs": [],
   "source": [
    "model.add(Dropout(0.3))"
   ]
  },
  {
   "cell_type": "code",
   "execution_count": null,
   "id": "812577de-18a1-4105-9a78-402f24e2f76f",
   "metadata": {},
   "outputs": [],
   "source": [
    "model.add(Conv2D(filters=256, kernel_size=3, padding='same', activation='relu'))\n",
    "model.add(Conv2D(filters=256, kernel_size=3, activation='relu'))\n",
    "model.add(MaxPool2D(pool_size=2, strides=2))"
   ]
  },
  {
   "cell_type": "code",
   "execution_count": null,
   "id": "d4f60bc2-cf93-4ca6-a750-d086c8dabacd",
   "metadata": {},
   "outputs": [],
   "source": [
    "model.add(Conv2D(filters=512, kernel_size=3, padding='same', activation='relu'))\n",
    "model.add(Conv2D(filters=512, kernel_size=3, activation='relu'))\n",
    "model.add(MaxPool2D(pool_size=2, strides=2))"
   ]
  },
  {
   "cell_type": "code",
   "execution_count": null,
   "id": "cb9a8841-fb4d-4e35-a881-d73a10ad9499",
   "metadata": {},
   "outputs": [],
   "source": [
    "model.add(Dropout(0.3))"
   ]
  },
  {
   "cell_type": "code",
   "execution_count": null,
   "id": "1b999543-a3cc-4d86-9cb9-9efe2f4d77f6",
   "metadata": {},
   "outputs": [],
   "source": [
    "model.add(Flatten())"
   ]
  },
  {
   "cell_type": "code",
   "execution_count": null,
   "id": "467c807c-8058-4524-abb3-024bed95c5fd",
   "metadata": {},
   "outputs": [],
   "source": [
    "model.add(Dense(units=1200, activation='relu'))"
   ]
  },
  {
   "cell_type": "code",
   "execution_count": null,
   "id": "80eafabc-abb6-4ed0-9d49-e3b0f43e7b4a",
   "metadata": {},
   "outputs": [],
   "source": [
    "model.add(Dropout(0.45))"
   ]
  },
  {
   "cell_type": "code",
   "execution_count": null,
   "id": "a5d1a6a4-2c9b-4688-bd10-d1d59b997f3b",
   "metadata": {},
   "outputs": [],
   "source": [
    "# Output layer\n",
    "model.add(Dense(units=len(classes), activation='softmax'))"
   ]
  },
  {
   "cell_type": "code",
   "execution_count": null,
   "id": "363d842e-265a-434d-b6b2-8754aa7f77b0",
   "metadata": {},
   "outputs": [],
   "source": [
    "model.summary()"
   ]
  },
  {
   "cell_type": "code",
   "execution_count": null,
   "id": "6185f054-f596-4143-a241-a2f5d940867d",
   "metadata": {
    "scrolled": true
   },
   "outputs": [],
   "source": [
    "# Compile the model\n",
    "model.compile(optimizer=Adam(learning_rate=0.0001),\n",
    "              loss='categorical_crossentropy',\n",
    "              metrics=['accuracy'])\n",
    "\n",
    "# Training Model\n",
    "training_history = model.fit(X_train, Y_train,\n",
    "                             epochs=30,\n",
    "                             batch_size=32,\n",
    "                             validation_data=(X_test, Y_test))\n"
   ]
  },
  {
   "cell_type": "code",
   "execution_count": null,
   "id": "0f636cc1-89f8-4009-b398-22056bf8fb83",
   "metadata": {},
   "outputs": [],
   "source": []
  }
 ],
 "metadata": {
  "kernelspec": {
   "display_name": "Python (tf-env)",
   "language": "python",
   "name": "tf-env"
  },
  "language_info": {
   "codemirror_mode": {
    "name": "ipython",
    "version": 3
   },
   "file_extension": ".py",
   "mimetype": "text/x-python",
   "name": "python",
   "nbconvert_exporter": "python",
   "pygments_lexer": "ipython3",
   "version": "3.9.21"
  }
 },
 "nbformat": 4,
 "nbformat_minor": 5
}
